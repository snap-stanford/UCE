{
 "cells": [
  {
   "cell_type": "markdown",
   "id": "0e4018ee",
   "metadata": {},
   "source": [
    "# Embedding Novel Species\n",
    "\n",
    "This notebook will create the files you need to embed a novel species that wasn't included in the training data.\n",
    "\n",
    "To start, you will need to download the ESM2 protein embeddings and the reference proteome for the species.\n",
    "\n",
    "You can find precalculated ESM2 protein embeddings for many species [here](https://drive.google.com/drive/folders/1_Dz7HS5N3GoOAG6MdhsXWY1nwLoN13DJ?usp=drive_link)\n",
    "\n",
    "For reference proteomes, you can download them from [here](https://useast.ensembl.org/info/about/species.html).\n",
    "\n",
    "If there is no protein embedding for the species you are interested in, you can request to have it made via Github or email, or you can create it yourself following instructions [here](https://github.com/snap-stanford/SATURN/tree/main/protein_embeddings)."
   ]
  },
  {
   "cell_type": "code",
   "execution_count": 1,
   "id": "ab368d92",
   "metadata": {},
   "outputs": [],
   "source": [
    "import numpy as np\n",
    "import pickle as pkl\n",
    "import pandas as pd"
   ]
  },
  {
   "cell_type": "code",
   "execution_count": 30,
   "id": "c9a306f3",
   "metadata": {},
   "outputs": [],
   "source": [
    "SPECIES_NAME = \"rabbit\" # short hand name for this species, will be used in arguments and files\n",
    "\n",
    "# Path to the species proteome\n",
    "SPECIES_PROTEIN_FASTA_PATH = \"/lfs/local/0/yanay/SATURN/protein_embeddings/data/Oryctolagus_cuniculus.OryCun2.0.pep.all.fa\"\n",
    "\n",
    "# Path to the ESM2 Embeddings\n",
    "SPECIES_PROTEIN_EMBEDDINGS_PATH = \"/lfs/local/0/yanay/SATURN/protein_embeddings//data/Oryctolagus_cuniculus.OryCun2.0.pep.all.gene_symbol_to_embedding_ESM2.pt\"\n",
    "\n",
    "# primary_assembly name, this needs to be matched to the FASTA file\n",
    "ASSEMBLY_NAME = \"Oryctolagus_cuniculus.OryCun2.0\"\n",
    "# NCBI Taxonomy ID, please set this so that if someone else also embeds the same species,\n",
    "# randomly generated chromosome tokens will be the same\n",
    "TAXONOMY_ID = 9986"
   ]
  },
  {
   "cell_type": "markdown",
   "id": "e5d37e52",
   "metadata": {},
   "source": [
    "You can view the FASTA format here, please confirm the primary_assembly name is correct."
   ]
  },
  {
   "cell_type": "code",
   "execution_count": 31,
   "id": "2ecf1464",
   "metadata": {},
   "outputs": [
    {
     "name": "stdout",
     "output_type": "stream",
     "text": [
      ">ENSOCUP00000018422.2 pep chromosome:OryCun2.0:17:42506545:42507786:1 gene:ENSOCUG00000023049.2 transcript:ENSOCUT00000027669.2 gene_biotype:TR_V_gene transcript_biotype:TR_V_gene\n",
      "MAQTVTQTQPEMSVQEAETATLDCTYDTRDSDYYLFWYKQPPSGELVLIIRQEAYKPQNA\n",
      "TQNRFSVNFQKVSKSFSLKISDSQLGDAGMYLCARMKEYFRMSF\n",
      ">ENSOCUP00000036682.1 pep chromosome:OryCun2.0:10:21480758:21481093:-1 gene:ENSOCUG00000036137.1 transcript:ENSOCUT00000052566.1 gene_biotype:TR_C_gene transcript_biotype:TR_C_gene\n",
      "DKKLDGDFSPKPTIFLPSIAETKLHKAGTYLCLLEKFFPDVIKVYWKEKNGDTILESQEG\n",
      "NTMKINGTYMKFSWLTVPQKSFDKEHRCIVEHENTRESKQEILFPAINKGT\n",
      ">ENSOCUP00000012669.3 pep chromosome:OryCun2.0:21:4870031:4880529:1 gene:ENSOCUG00000021096.2 transcript:ENSOCUT00000014734.3 gene_biotype:IG_C_gene transcript_biotype:IG_C_gene\n",
      "GQPAVTPSVILFPPSSEELKDNKATLVCLINDFYPRTVKVNWKADGNSVTQGVDTTQPSK\n",
      "QSNNKYAASSFLSLSANQWKSYQSVTCQVTHEGHTVEKSLAPAECQPAVTPSVILFPPSS\n",
      "EELKDNKATLVCLINDFYPGTVKVNWKADGTPVTQGVDTTQPSKQSNSKYAASSFLSLSA\n"
     ]
    }
   ],
   "source": [
    "!head {SPECIES_PROTEIN_FASTA_PATH}"
   ]
  },
  {
   "cell_type": "code",
   "execution_count": 32,
   "id": "90540d0b",
   "metadata": {},
   "outputs": [],
   "source": [
    "species_to_paths = {\n",
    "    SPECIES_NAME: SPECIES_PROTEIN_FASTA_PATH,\n",
    "}\n",
    "\n",
    "species_to_ids = {\n",
    "    SPECIES_NAME: ASSEMBLY_NAME,\n",
    "}"
   ]
  },
  {
   "cell_type": "code",
   "execution_count": 49,
   "id": "623b99cf",
   "metadata": {},
   "outputs": [],
   "source": [
    "all_pos_def = []\n",
    "\n",
    "missing_genes = {}\n",
    "for species in species_to_ids.keys():\n",
    "    missing_genes[species] = []\n",
    "    proteome_path = species_to_paths[species]\n",
    "    species_id = species_to_ids[species]\n",
    "\n",
    "    with open(proteome_path) as f:\n",
    "        proteome_lines = f.readlines()\n",
    "\n",
    "    gene_symbol_to_location = {}\n",
    "    gene_symbol_to_chrom = {}\n",
    "\n",
    "    for line in proteome_lines:\n",
    "        if line.startswith(\">\"):\n",
    "            split_line = line.split()\n",
    "            gene_symbol = [token for token in split_line if token.startswith(\"gene\")]\n",
    "            if len(gene_symbol) > 0:\n",
    "                gene_symbol = gene_symbol[0].split(\":\")\n",
    "                \n",
    "                if len(gene_symbol) == 2:\n",
    "                    gene_symbol = gene_symbol[1]\n",
    "                elif len(gene_symbol) > 2:\n",
    "                    gene_symbol = \":\".join(gene_symbol[1:]) # fix for annoying zebrafish gene names with colons in them\n",
    "                else:\n",
    "                    1/0 # something weird happening, throw an error\n",
    "                \n",
    "                \n",
    "                chrom = None\n",
    "                \n",
    "                chrom_arr = [token for token in split_line if token.startswith(\"chromosome:\")]\n",
    "                if len(chrom_arr) > 0:\n",
    "                    chrom = chrom_arr[0].replace(\"chromosome:\", \"\")\n",
    "                else:\n",
    "                    chrom_arr = [token for token in split_line if token.startswith(\"primary_assembly:\")]\n",
    "                    if len(chrom_arr) > 0:\n",
    "                        chrom = chrom_arr[0].replace(\"primary_assembly:\", \"\")\n",
    "                    else:\n",
    "                        chrom_arr = [token for token in split_line if token.startswith(\"scaffold:\")] \n",
    "                        if len(chrom_arr) > 0:\n",
    "                            chrom = chrom_arr[0].replace(\"scaffold:\", \"\")\n",
    "                if chrom is not None:\n",
    "                    gene_symbol_to_location[gene_symbol] = chrom.split(\":\")[2]\n",
    "                    gene_symbol_to_chrom[gene_symbol] = chrom.split(\":\")[1]\n",
    "                else:\n",
    "                    missing_genes[species].append(gene_symbol)\n",
    "                    \n",
    "\n",
    "    positional_df = pd.DataFrame()\n",
    "    positional_df[\"gene_symbol\"] = [gn.upper() for gn in list(gene_symbol_to_chrom.keys())]\n",
    "    positional_df[\"chromosome\"] = list(gene_symbol_to_chrom.values())\n",
    "    positional_df[\"start\"] = list(gene_symbol_to_location.values())\n",
    "    positional_df = positional_df.sort_values([\"chromosome\", \"start\"])\n",
    "    #positional_df = positional_df.set_index(\"gene_symbol\")\n",
    "    positional_df[\"species\"] = species\n",
    "    all_pos_def.append(positional_df)"
   ]
  },
  {
   "cell_type": "code",
   "execution_count": 50,
   "id": "b72887b3",
   "metadata": {},
   "outputs": [
    {
     "data": {
      "text/html": [
       "<div>\n",
       "<style scoped>\n",
       "    .dataframe tbody tr th:only-of-type {\n",
       "        vertical-align: middle;\n",
       "    }\n",
       "\n",
       "    .dataframe tbody tr th {\n",
       "        vertical-align: top;\n",
       "    }\n",
       "\n",
       "    .dataframe thead th {\n",
       "        text-align: right;\n",
       "    }\n",
       "</style>\n",
       "<table border=\"1\" class=\"dataframe\">\n",
       "  <thead>\n",
       "    <tr style=\"text-align: right;\">\n",
       "      <th></th>\n",
       "      <th>gene_symbol</th>\n",
       "      <th>chromosome</th>\n",
       "      <th>start</th>\n",
       "      <th>species</th>\n",
       "    </tr>\n",
       "  </thead>\n",
       "  <tbody>\n",
       "    <tr>\n",
       "      <th>13563</th>\n",
       "      <td>ENSOCUG00000030222.1</td>\n",
       "      <td>1</td>\n",
       "      <td>10033937</td>\n",
       "      <td>rabbit</td>\n",
       "    </tr>\n",
       "    <tr>\n",
       "      <th>13566</th>\n",
       "      <td>ENSOCUG00000009135.4</td>\n",
       "      <td>1</td>\n",
       "      <td>10079693</td>\n",
       "      <td>rabbit</td>\n",
       "    </tr>\n",
       "    <tr>\n",
       "      <th>11518</th>\n",
       "      <td>ENSOCUG00000000864.4</td>\n",
       "      <td>1</td>\n",
       "      <td>101192104</td>\n",
       "      <td>rabbit</td>\n",
       "    </tr>\n",
       "    <tr>\n",
       "      <th>12748</th>\n",
       "      <td>ENSOCUG00000022316.2</td>\n",
       "      <td>1</td>\n",
       "      <td>101724659</td>\n",
       "      <td>rabbit</td>\n",
       "    </tr>\n",
       "    <tr>\n",
       "      <th>12752</th>\n",
       "      <td>ENSOCUG00000010311.4</td>\n",
       "      <td>1</td>\n",
       "      <td>101780739</td>\n",
       "      <td>rabbit</td>\n",
       "    </tr>\n",
       "    <tr>\n",
       "      <th>...</th>\n",
       "      <td>...</td>\n",
       "      <td>...</td>\n",
       "      <td>...</td>\n",
       "      <td>...</td>\n",
       "    </tr>\n",
       "    <tr>\n",
       "      <th>6720</th>\n",
       "      <td>ENSOCUG00000005012.4</td>\n",
       "      <td>X</td>\n",
       "      <td>98832565</td>\n",
       "      <td>rabbit</td>\n",
       "    </tr>\n",
       "    <tr>\n",
       "      <th>7402</th>\n",
       "      <td>ENSOCUG00000005013.4</td>\n",
       "      <td>X</td>\n",
       "      <td>98862791</td>\n",
       "      <td>rabbit</td>\n",
       "    </tr>\n",
       "    <tr>\n",
       "      <th>9551</th>\n",
       "      <td>ENSOCUG00000006668.4</td>\n",
       "      <td>X</td>\n",
       "      <td>9919347</td>\n",
       "      <td>rabbit</td>\n",
       "    </tr>\n",
       "    <tr>\n",
       "      <th>9562</th>\n",
       "      <td>ENSOCUG00000006592.4</td>\n",
       "      <td>X</td>\n",
       "      <td>9983507</td>\n",
       "      <td>rabbit</td>\n",
       "    </tr>\n",
       "    <tr>\n",
       "      <th>7856</th>\n",
       "      <td>ENSOCUG00000023025.2</td>\n",
       "      <td>X</td>\n",
       "      <td>99840015</td>\n",
       "      <td>rabbit</td>\n",
       "    </tr>\n",
       "  </tbody>\n",
       "</table>\n",
       "<p>20612 rows × 4 columns</p>\n",
       "</div>"
      ],
      "text/plain": [
       "                gene_symbol chromosome      start species\n",
       "13563  ENSOCUG00000030222.1          1   10033937  rabbit\n",
       "13566  ENSOCUG00000009135.4          1   10079693  rabbit\n",
       "11518  ENSOCUG00000000864.4          1  101192104  rabbit\n",
       "12748  ENSOCUG00000022316.2          1  101724659  rabbit\n",
       "12752  ENSOCUG00000010311.4          1  101780739  rabbit\n",
       "...                     ...        ...        ...     ...\n",
       "6720   ENSOCUG00000005012.4          X   98832565  rabbit\n",
       "7402   ENSOCUG00000005013.4          X   98862791  rabbit\n",
       "9551   ENSOCUG00000006668.4          X    9919347  rabbit\n",
       "9562   ENSOCUG00000006592.4          X    9983507  rabbit\n",
       "7856   ENSOCUG00000023025.2          X   99840015  rabbit\n",
       "\n",
       "[20612 rows x 4 columns]"
      ]
     },
     "execution_count": 50,
     "metadata": {},
     "output_type": "execute_result"
    }
   ],
   "source": [
    "master_pos_def = pd.concat(all_pos_def)\n",
    "master_pos_def"
   ]
  },
  {
   "cell_type": "code",
   "execution_count": 51,
   "id": "6d9dac28",
   "metadata": {},
   "outputs": [
    {
     "data": {
      "text/plain": [
       "rabbit    20612\n",
       "Name: species, dtype: int64"
      ]
     },
     "execution_count": 51,
     "metadata": {},
     "output_type": "execute_result"
    }
   ],
   "source": [
    "master_pos_def[\"species\"].value_counts() # double check how many genes are mapped"
   ]
  },
  {
   "cell_type": "code",
   "execution_count": 52,
   "id": "4a3d45c2",
   "metadata": {},
   "outputs": [
    {
     "name": "stdout",
     "output_type": "stream",
     "text": [
      "rabbit: 0\n"
     ]
    }
   ],
   "source": [
    "for k, v in missing_genes.items():\n",
    "    print(f\"{k}: {len(v)}\") # are any genes missing?"
   ]
  },
  {
   "cell_type": "code",
   "execution_count": 53,
   "id": "c59774b1",
   "metadata": {
    "scrolled": true
   },
   "outputs": [
    {
     "name": "stdout",
     "output_type": "stream",
     "text": [
      "*********\n",
      "rabbit\n"
     ]
    },
    {
     "data": {
      "text/plain": [
       "1           1621\n",
       "13          1379\n",
       "12          1038\n",
       "2            983\n",
       "7            884\n",
       "3            836\n",
       "19           830\n",
       "4            803\n",
       "14           796\n",
       "17           765\n",
       "9            754\n",
       "X            685\n",
       "8            522\n",
       "18           517\n",
       "15           517\n",
       "16           498\n",
       "5            367\n",
       "11           348\n",
       "10           269\n",
       "6            238\n",
       "20           204\n",
       "21           179\n",
       "GL018699     118\n",
       "GL018704     106\n",
       "GL018717      95\n",
       "GL018725      65\n",
       "GL018786      64\n",
       "GL018706      63\n",
       "GL018752      58\n",
       "GL018763      57\n",
       "GL018734      54\n",
       "GL018714      52\n",
       "GL018758      52\n",
       "GL018789      49\n",
       "GL018705      48\n",
       "GL018767      48\n",
       "GL018702      45\n",
       "GL018738      42\n",
       "GL018723      41\n",
       "GL018776      40\n",
       "GL018828      40\n",
       "GL018701      40\n",
       "GL018816      39\n",
       "GL018760      39\n",
       "GL018700      39\n",
       "GL018823      37\n",
       "GL018747      34\n",
       "GL018765      32\n",
       "GL018792      31\n",
       "GL018730      31\n",
       "Name: chromosome, dtype: int64"
      ]
     },
     "metadata": {},
     "output_type": "display_data"
    },
    {
     "name": "stdout",
     "output_type": "stream",
     "text": [
      "*********\n"
     ]
    }
   ],
   "source": [
    "# Count genes per chromosome\n",
    "for species in species_to_ids.keys():\n",
    "    print(\"*********\")\n",
    "    print(species)\n",
    "    display(master_pos_def[master_pos_def[\"species\"] == species][\"chromosome\"].value_counts().head(50))\n",
    "    print(\"*********\")"
   ]
  },
  {
   "cell_type": "code",
   "execution_count": 54,
   "id": "541baded",
   "metadata": {},
   "outputs": [],
   "source": [
    "master_pos_def.to_csv(f\"{SPECIES_NAME}_to_chrom_pos.csv\", index=False) # Save the DF"
   ]
  },
  {
   "cell_type": "code",
   "execution_count": 55,
   "id": "eabd0e31",
   "metadata": {},
   "outputs": [
    {
     "name": "stdout",
     "output_type": "stream",
     "text": [
      "rabbit_to_chrom_pos.csv\n"
     ]
    }
   ],
   "source": [
    "# The chromosome file path will be:\n",
    "print(f\"{SPECIES_NAME}_to_chrom_pos.csv\")"
   ]
  },
  {
   "cell_type": "code",
   "execution_count": 56,
   "id": "fe1345b1",
   "metadata": {},
   "outputs": [
    {
     "data": {
      "text/plain": [
       "1026"
      ]
     },
     "execution_count": 56,
     "metadata": {},
     "output_type": "execute_result"
    }
   ],
   "source": [
    "N_UNIQ_CHROM = len(master_pos_def[master_pos_def[\"species\"] == species][\"chromosome\"].unique())\n",
    "N_UNIQ_CHROM"
   ]
  },
  {
   "cell_type": "markdown",
   "id": "e37e277f",
   "metadata": {},
   "source": [
    "# Generate token file"
   ]
  },
  {
   "cell_type": "code",
   "execution_count": 57,
   "id": "d6904975",
   "metadata": {},
   "outputs": [],
   "source": [
    "import torch\n",
    "import pickle\n",
    "token_dim = 5120"
   ]
  },
  {
   "cell_type": "markdown",
   "id": "a2798848",
   "metadata": {},
   "source": [
    "This will create the token file. Please note the offset value."
   ]
  },
  {
   "cell_type": "code",
   "execution_count": 58,
   "id": "4355dabd",
   "metadata": {},
   "outputs": [
    {
     "name": "stdout",
     "output_type": "stream",
     "text": [
      "CHROM_TOKEN_OFFSET: 20616\n",
      "Saved PE, offsets file\n"
     ]
    }
   ],
   "source": [
    "species_to_offsets = {}\n",
    "\n",
    "all_pe = torch.load(\"/dfs/project/cross-species/yanay/code/uce_code/UCE_public/model_files/all_tokens.torch\")[0:4] # read in existing token file to make sure \n",
    "# that special vocab tokens are the same for different seeds\n",
    "\n",
    "offset = len(all_pe) # special tokens at the top!\n",
    "\n",
    "PE = torch.load(SPECIES_PROTEIN_EMBEDDINGS_PATH)\n",
    "\n",
    "pe_stacked = torch.stack(list(PE.values()))\n",
    "all_pe = torch.vstack((all_pe, pe_stacked))\n",
    "species_to_offsets[species] = offset\n",
    "\n",
    "print(\"CHROM_TOKEN_OFFSET:\", all_pe.shape[0])\n",
    "torch.manual_seed(TAXONOMY_ID)\n",
    "CHROM_TENSORS = torch.normal(mean=0, std=1, size=(N_UNIQ_CHROM, 5120)) \n",
    "# N_UNIQ_CHROM is the total number of chromosome choices, it is hardcoded for now (for species in the training data)\n",
    "all_pe = torch.vstack(\n",
    "    (all_pe, CHROM_TENSORS))  # Add the chrom tensors to the end\n",
    "all_pe.requires_grad = False\n",
    "\n",
    "\n",
    "torch.save(all_pe, f\"{SPECIES_NAME}_pe_tokens.torch\")\n",
    "\n",
    "with open(f\"{SPECIES_NAME}_offsets.pkl\", \"wb+\") as f:\n",
    "    pickle.dump(species_to_offsets, f)\n",
    "print(\"Saved PE, offsets file\")"
   ]
  },
  {
   "cell_type": "code",
   "execution_count": 59,
   "id": "c26fe491",
   "metadata": {
    "scrolled": true
   },
   "outputs": [
    {
     "data": {
      "text/plain": [
       "torch.Size([21642, 5120])"
      ]
     },
     "execution_count": 59,
     "metadata": {},
     "output_type": "execute_result"
    }
   ],
   "source": [
    "all_pe.shape"
   ]
  },
  {
   "cell_type": "code",
   "execution_count": 60,
   "id": "21f937ea",
   "metadata": {
    "scrolled": true
   },
   "outputs": [
    {
     "data": {
      "text/plain": [
       "torch.Size([21642, 5120])"
      ]
     },
     "execution_count": 60,
     "metadata": {},
     "output_type": "execute_result"
    }
   ],
   "source": [
    "all_pe.shape"
   ]
  },
  {
   "cell_type": "code",
   "execution_count": 61,
   "id": "5faadace",
   "metadata": {},
   "outputs": [
    {
     "name": "stdout",
     "output_type": "stream",
     "text": [
      "rabbit_offsets.pkl\n"
     ]
    }
   ],
   "source": [
    "print(f\"{SPECIES_NAME}_offsets.pkl\")"
   ]
  },
  {
   "cell_type": "code",
   "execution_count": 62,
   "id": "6ceac20b",
   "metadata": {},
   "outputs": [
    {
     "data": {
      "text/plain": [
       "'/lfs/local/0/yanay/SATURN/protein_embeddings//data/Oryctolagus_cuniculus.OryCun2.0.pep.all.gene_symbol_to_embedding_ESM2.pt'"
      ]
     },
     "execution_count": 62,
     "metadata": {},
     "output_type": "execute_result"
    }
   ],
   "source": [
    "SPECIES_PROTEIN_EMBEDDINGS_PATH"
   ]
  },
  {
   "cell_type": "markdown",
   "id": "e4697330",
   "metadata": {},
   "source": [
    "# Example evaluation of new species"
   ]
  },
  {
   "cell_type": "markdown",
   "id": "2b72667d",
   "metadata": {},
   "source": [
    "**Note: when you evaluate a new species, you need to change some arguments and modify some files:**\n",
    "\n",
    "You will  need to modify the csv in `model_files/new_species_protein_embeddings.csv` to include the new protein embeddings file you downloaded.\n",
    "\n",
    "In the file add a row for the new species with the format:\n",
    "`species name,full path to protein embedding file`\n",
    "\n",
    "Please also add this line to the dictionary created on line 247 in the file `data_proc/data_utils.py`.\n",
    "\n",
    "When you want to embed this new species, you will need to specify these newly created files as arguments.\n",
    "- `CHROM_TOKEN_OFFSET`: This tells UCE when the rows corresponding to chromosome tokens starts.\n",
    "- `spec_chrom_csv_path`: This is a new csv, created by this script, which maps genes to chromosomes and genomic positions\n",
    "- `token_file`: This is a new token file that will work just for this species. The embeddings generated will still be universal though!\n",
    "- `offset_pkl_path`: This is another file that maps genes to tokens\n",
    "\n",
    "\n",
    "```\n",
    "\n",
    "accelerate launch eval_single_anndata.py chicken_heart.h5ad --species=chicken --CHROM_TOKEN_OFFSET=13275 --spec_chrom_csv_path=data_proc/chicken_to_chrom_pos.csv --token_file=data_proc/chicken_pe_tokens.torch --offset_pkl_path=data_proc/chicken_offsets.pkl --dir=... --multi_gpu=True\n",
    "\n",
    "```"
   ]
  },
  {
   "cell_type": "code",
   "execution_count": null,
   "id": "5203be90-cc36-4b60-867e-30b542649127",
   "metadata": {},
   "outputs": [],
   "source": []
  }
 ],
 "metadata": {
  "kernelspec": {
   "display_name": "Python 3 (ipykernel)",
   "language": "python",
   "name": "python3"
  },
  "language_info": {
   "codemirror_mode": {
    "name": "ipython",
    "version": 3
   },
   "file_extension": ".py",
   "mimetype": "text/x-python",
   "name": "python",
   "nbconvert_exporter": "python",
   "pygments_lexer": "ipython3",
   "version": "3.11.7"
  }
 },
 "nbformat": 4,
 "nbformat_minor": 5
}
