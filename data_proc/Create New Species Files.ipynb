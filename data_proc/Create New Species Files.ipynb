{
 "cells": [
  {
   "cell_type": "markdown",
   "id": "0e4018ee",
   "metadata": {},
   "source": [
    "# Embedding Novel Species\n",
    "\n",
    "This notebook will create the files you need to embed a novel species that wasn't included in the training data.\n",
    "\n",
    "To start, you will need to download the ESM2 protein embeddings and the reference proteome for the species.\n",
    "\n",
    "You can find precalculated ESM2 protein embeddings for many species [here](https://drive.google.com/drive/folders/1_Dz7HS5N3GoOAG6MdhsXWY1nwLoN13DJ?usp=drive_link)\n",
    "\n",
    "For reference proteomes, you can download them from [here](https://useast.ensembl.org/info/about/species.html).\n",
    "\n",
    "If there is no protein embedding for the species you are interested in, you can request to have it made via Github or email, or you can create it yourself following instructions [here](https://github.com/snap-stanford/SATURN/tree/main/protein_embeddings)."
   ]
  },
  {
   "cell_type": "code",
   "execution_count": 99,
   "id": "ab368d92",
   "metadata": {},
   "outputs": [],
   "source": [
    "import numpy as np\n",
    "import pickle as pkl\n",
    "import pandas as pd"
   ]
  },
  {
   "cell_type": "code",
   "execution_count": 117,
   "id": "c9a306f3",
   "metadata": {},
   "outputs": [],
   "source": [
    "SPECIES_NAME = \"gorilla\" # short hand name for this species, will be used in arguments and files\n",
    "\n",
    "# Path to the species proteome\n",
    "SPECIES_PROTEIN_FASTA_PATH = \"/dfs/project/cross-species/yanay/data/proteome/Gorilla_gorilla.gorGor4.pep.all.fa\"\n",
    "\n",
    "# Path to the ESM2 Embeddings\n",
    "SPECIES_PROTEIN_EMBEDDINGS_PATH = \"/dfs/project/cross-species/yanay/data/proteome/embeddings/Gorilla_gorilla.gorGor4.pep.all.gene_symbol_to_embedding_ESM2.pt\"\n",
    "\n",
    "# primary_assembly name, this needs to be matched to the FASTA file\n",
    "ASSEMBLY_NAME = \"Gorilla_gorilla.gorGor4\"\n",
    "# NCBI Taxonomy ID, please set this so that if someone else also embeds the same species,\n",
    "# randomly generated chromosome tokens will be the same\n",
    "TAXONOMY_ID = 9595"
   ]
  },
  {
   "cell_type": "markdown",
   "id": "e5d37e52",
   "metadata": {},
   "source": [
    "You can view the FASTA format here, please confirm the primary_assembly name is correct."
   ]
  },
  {
   "cell_type": "code",
   "execution_count": 118,
   "id": "2ecf1464",
   "metadata": {},
   "outputs": [
    {
     "name": "stdout",
     "output_type": "stream",
     "text": [
      ">ENSGGOP00000050442.1 pep chromosome:gorGor4:7:142109302:142109637:1 gene:ENSGGOG00000038962.1 transcript:ENSGGOT00000048834.1 gene_biotype:TR_V_gene transcript_biotype:TR_V_gene\n",
      "DAGVTQSPTHLIKTRGQQVTLRCSPQSGHNTVSWYQQALGQGPQFIFEYYEKEERGRGNF\n",
      "PDRFSARQFPNYSSELNVNALLLGDSALYLCASSLAQPSRVTDVLYINFLP\n",
      ">ENSGGOP00000047879.1 pep chromosome:gorGor4:14:23497737:23498111:-1 gene:ENSGGOG00000040725.1 transcript:ENSGGOT00000067180.1 gene_biotype:TR_V_gene transcript_biotype:TR_V_gene\n",
      "GENVEQHPSTLSVQEGDSAVIKCTYSDSASNYFPWYKQELGKGPQLLIDIRSNVGEKKDQ\n",
      "GITVTLNKTAKHFSLHITETQPEDSAVYFCAASTHCFPGTCHPCTNLRLELKLHPLSFVI\n",
      "DRQL\n",
      ">ENSGGOP00000045042.1 pep chromosome:gorGor4:14:23364087:23364422:-1 gene:ENSGGOG00000044166.1 transcript:ENSGGOT00000059848.1 gene_biotype:TR_V_gene transcript_biotype:TR_V_gene gene_symbol:TRAV17 description:T cell receptor alpha variable 17 [Source:HGNC Symbol;Acc:HGNC:12113]\n",
      "SQQGEEDPQALSIQEGENATMNCSYKTSINNLQWYRQNSGRGLVHLILIRSNEREKHSGR\n",
      "LRVTLDTSKKSSSLLITASRAADTASYFCATDAQCSPGTCSLYANPAKATS\n"
     ]
    }
   ],
   "source": [
    "!head {SPECIES_PROTEIN_FASTA_PATH}"
   ]
  },
  {
   "cell_type": "code",
   "execution_count": 119,
   "id": "90540d0b",
   "metadata": {},
   "outputs": [],
   "source": [
    "species_to_paths = {\n",
    "    SPECIES_NAME: SPECIES_PROTEIN_FASTA_PATH,\n",
    "}\n",
    "\n",
    "species_to_ids = {\n",
    "    SPECIES_NAME: ASSEMBLY_NAME,\n",
    "}"
   ]
  },
  {
   "cell_type": "code",
   "execution_count": 120,
   "id": "623b99cf",
   "metadata": {},
   "outputs": [],
   "source": [
    "all_pos_def = []\n",
    "\n",
    "missing_genes = {}\n",
    "for species in species_to_ids.keys():\n",
    "    missing_genes[species] = []\n",
    "    proteome_path = species_to_paths[species]\n",
    "    species_id = species_to_ids[species]\n",
    "\n",
    "    with open(proteome_path) as f:\n",
    "        proteome_lines = f.readlines()\n",
    "\n",
    "    gene_symbol_to_location = {}\n",
    "    gene_symbol_to_chrom = {}\n",
    "\n",
    "    for line in proteome_lines:\n",
    "        if line.startswith(\">\"):\n",
    "            split_line = line.split()\n",
    "            gene_symbol = [token for token in split_line if token.startswith(\"gene_symbol\")]\n",
    "            if len(gene_symbol) > 0:\n",
    "                gene_symbol = gene_symbol[0].split(\":\")\n",
    "                \n",
    "                if len(gene_symbol) == 2:\n",
    "                    gene_symbol = gene_symbol[1]\n",
    "                elif len(gene_symbol) > 2:\n",
    "                    gene_symbol = \":\".join(gene_symbol[1:]) # fix for annoying zebrafish gene names with colons in them\n",
    "                else:\n",
    "                    1/0 # something weird happening, throw an error\n",
    "                \n",
    "                \n",
    "                chrom = None\n",
    "                \n",
    "                chrom_arr = [token for token in split_line if token.startswith(\"chromosome:\")]\n",
    "                if len(chrom_arr) > 0:\n",
    "                    chrom = chrom_arr[0].replace(\"chromosome:\", \"\")\n",
    "                else:\n",
    "                    chrom_arr = [token for token in split_line if token.startswith(\"primary_assembly:\")]\n",
    "                    if len(chrom_arr) > 0:\n",
    "                        chrom = chrom_arr[0].replace(\"primary_assembly:\", \"\")\n",
    "                    else:\n",
    "                        chrom_arr = [token for token in split_line if token.startswith(\"scaffold:\")] \n",
    "                        if len(chrom_arr) > 0:\n",
    "                            chrom = chrom_arr[0].replace(\"scaffold:\", \"\")\n",
    "                if chrom is not None:\n",
    "                    gene_symbol_to_location[gene_symbol] = chrom.split(\":\")[2]\n",
    "                    gene_symbol_to_chrom[gene_symbol] = chrom.split(\":\")[1]\n",
    "                else:\n",
    "                    missing_genes[species].append(gene_symbol)\n",
    "                    \n",
    "\n",
    "    positional_df = pd.DataFrame()\n",
    "    positional_df[\"gene_symbol\"] = [gn.upper() for gn in list(gene_symbol_to_chrom.keys())]\n",
    "    positional_df[\"chromosome\"] = list(gene_symbol_to_chrom.values())\n",
    "    positional_df[\"start\"] = list(gene_symbol_to_location.values())\n",
    "    positional_df = positional_df.sort_values([\"chromosome\", \"start\"])\n",
    "    #positional_df = positional_df.set_index(\"gene_symbol\")\n",
    "    positional_df[\"species\"] = species\n",
    "    all_pos_def.append(positional_df)"
   ]
  },
  {
   "cell_type": "code",
   "execution_count": 121,
   "id": "b72887b3",
   "metadata": {},
   "outputs": [
    {
     "data": {
      "text/html": [
       "<div>\n",
       "<style scoped>\n",
       "    .dataframe tbody tr th:only-of-type {\n",
       "        vertical-align: middle;\n",
       "    }\n",
       "\n",
       "    .dataframe tbody tr th {\n",
       "        vertical-align: top;\n",
       "    }\n",
       "\n",
       "    .dataframe thead th {\n",
       "        text-align: right;\n",
       "    }\n",
       "</style>\n",
       "<table border=\"1\" class=\"dataframe\">\n",
       "  <thead>\n",
       "    <tr style=\"text-align: right;\">\n",
       "      <th></th>\n",
       "      <th>gene_symbol</th>\n",
       "      <th>chromosome</th>\n",
       "      <th>start</th>\n",
       "      <th>species</th>\n",
       "    </tr>\n",
       "  </thead>\n",
       "  <tbody>\n",
       "    <tr>\n",
       "      <th>3967</th>\n",
       "      <td>PLPPR5</td>\n",
       "      <td>1</td>\n",
       "      <td>100279777</td>\n",
       "      <td>gorilla</td>\n",
       "    </tr>\n",
       "    <tr>\n",
       "      <th>8070</th>\n",
       "      <td>PLPPR4</td>\n",
       "      <td>1</td>\n",
       "      <td>100649238</td>\n",
       "      <td>gorilla</td>\n",
       "    </tr>\n",
       "    <tr>\n",
       "      <th>2133</th>\n",
       "      <td>PALMD</td>\n",
       "      <td>1</td>\n",
       "      <td>101051168</td>\n",
       "      <td>gorilla</td>\n",
       "    </tr>\n",
       "    <tr>\n",
       "      <th>4858</th>\n",
       "      <td>AGL</td>\n",
       "      <td>1</td>\n",
       "      <td>101242303</td>\n",
       "      <td>gorilla</td>\n",
       "    </tr>\n",
       "    <tr>\n",
       "      <th>15395</th>\n",
       "      <td>SASS6</td>\n",
       "      <td>1</td>\n",
       "      <td>101474949</td>\n",
       "      <td>gorilla</td>\n",
       "    </tr>\n",
       "    <tr>\n",
       "      <th>...</th>\n",
       "      <td>...</td>\n",
       "      <td>...</td>\n",
       "      <td>...</td>\n",
       "      <td>...</td>\n",
       "    </tr>\n",
       "    <tr>\n",
       "      <th>1802</th>\n",
       "      <td>GPR143</td>\n",
       "      <td>X</td>\n",
       "      <td>9441264</td>\n",
       "      <td>gorilla</td>\n",
       "    </tr>\n",
       "    <tr>\n",
       "      <th>6848</th>\n",
       "      <td>SHROOM2</td>\n",
       "      <td>X</td>\n",
       "      <td>9629546</td>\n",
       "      <td>gorilla</td>\n",
       "    </tr>\n",
       "    <tr>\n",
       "      <th>6712</th>\n",
       "      <td>DIAPH2</td>\n",
       "      <td>X</td>\n",
       "      <td>96542787</td>\n",
       "      <td>gorilla</td>\n",
       "    </tr>\n",
       "    <tr>\n",
       "      <th>384</th>\n",
       "      <td>WWC3</td>\n",
       "      <td>X</td>\n",
       "      <td>9733923</td>\n",
       "      <td>gorilla</td>\n",
       "    </tr>\n",
       "    <tr>\n",
       "      <th>7569</th>\n",
       "      <td>CLCN4</td>\n",
       "      <td>X</td>\n",
       "      <td>9914008</td>\n",
       "      <td>gorilla</td>\n",
       "    </tr>\n",
       "  </tbody>\n",
       "</table>\n",
       "<p>15926 rows × 4 columns</p>\n",
       "</div>"
      ],
      "text/plain": [
       "      gene_symbol chromosome      start  species\n",
       "3967       PLPPR5          1  100279777  gorilla\n",
       "8070       PLPPR4          1  100649238  gorilla\n",
       "2133        PALMD          1  101051168  gorilla\n",
       "4858          AGL          1  101242303  gorilla\n",
       "15395       SASS6          1  101474949  gorilla\n",
       "...           ...        ...        ...      ...\n",
       "1802       GPR143          X    9441264  gorilla\n",
       "6848      SHROOM2          X    9629546  gorilla\n",
       "6712       DIAPH2          X   96542787  gorilla\n",
       "384          WWC3          X    9733923  gorilla\n",
       "7569        CLCN4          X    9914008  gorilla\n",
       "\n",
       "[15926 rows x 4 columns]"
      ]
     },
     "execution_count": 121,
     "metadata": {},
     "output_type": "execute_result"
    }
   ],
   "source": [
    "master_pos_def = pd.concat(all_pos_def)\n",
    "master_pos_def"
   ]
  },
  {
   "cell_type": "code",
   "execution_count": 122,
   "id": "6d9dac28",
   "metadata": {},
   "outputs": [
    {
     "data": {
      "text/plain": [
       "species\n",
       "gorilla    15926\n",
       "Name: count, dtype: int64"
      ]
     },
     "execution_count": 122,
     "metadata": {},
     "output_type": "execute_result"
    }
   ],
   "source": [
    "master_pos_def[\"species\"].value_counts() # double check how many genes are mapped"
   ]
  },
  {
   "cell_type": "code",
   "execution_count": 123,
   "id": "4a3d45c2",
   "metadata": {},
   "outputs": [
    {
     "name": "stdout",
     "output_type": "stream",
     "text": [
      "gorilla: 0\n"
     ]
    }
   ],
   "source": [
    "for k, v in missing_genes.items():\n",
    "    print(f\"{k}: {len(v)}\") # are any genes missing?"
   ]
  },
  {
   "cell_type": "code",
   "execution_count": 124,
   "id": "c59774b1",
   "metadata": {
    "scrolled": true
   },
   "outputs": [
    {
     "name": "stdout",
     "output_type": "stream",
     "text": [
      "*********\n",
      "gorilla\n"
     ]
    },
    {
     "data": {
      "text/plain": [
       "chromosome\n",
       "1                  1644\n",
       "5                  1186\n",
       "19                 1078\n",
       "11                 1043\n",
       "3                   929\n",
       "12                  867\n",
       "6                   826\n",
       "7                   728\n",
       "16                  653\n",
       "4                   635\n",
       "9                   608\n",
       "10                  598\n",
       "X                   590\n",
       "8                   548\n",
       "2B                  545\n",
       "14                  518\n",
       "2A                  487\n",
       "17                  469\n",
       "15                  453\n",
       "20                  448\n",
       "22                  338\n",
       "13                  271\n",
       "18                  223\n",
       "21                  160\n",
       "MT                   13\n",
       "CABD030168792.1       4\n",
       "CABD030153847.1       2\n",
       "CABD030167992.1       2\n",
       "CABD030168825.1       2\n",
       "CABD030168793.1       2\n",
       "CABD030166645.1       1\n",
       "CABD030166187.1       1\n",
       "CABD030166558.1       1\n",
       "CABD030165914.1       1\n",
       "CABD030165956.1       1\n",
       "CABD030165925.1       1\n",
       "CABD030167128.1       1\n",
       "CABD030163968.1       1\n",
       "CABD030163720.1       1\n",
       "CABD030163716.1       1\n",
       "CABD030166995.1       1\n",
       "CABD030168581.1       1\n",
       "CABD030167406.1       1\n",
       "CABD030167565.1       1\n",
       "CABD030167602.1       1\n",
       "CABD030168187.1       1\n",
       "CABD030162957.1       1\n",
       "CABD030168641.1       1\n",
       "CABD030168819.1       1\n",
       "CABD030168823.1       1\n",
       "Name: count, dtype: int64"
      ]
     },
     "metadata": {},
     "output_type": "display_data"
    },
    {
     "name": "stdout",
     "output_type": "stream",
     "text": [
      "*********\n"
     ]
    }
   ],
   "source": [
    "# Count genes per chromosome\n",
    "for species in species_to_ids.keys():\n",
    "    print(\"*********\")\n",
    "    print(species)\n",
    "    display(master_pos_def[master_pos_def[\"species\"] == species][\"chromosome\"].value_counts().head(50))\n",
    "    print(\"*********\")"
   ]
  },
  {
   "cell_type": "code",
   "execution_count": 125,
   "id": "541baded",
   "metadata": {},
   "outputs": [],
   "source": [
    "master_pos_def.to_csv(f\"{SPECIES_NAME}_to_chrom_pos.csv\", index=False) # Save the DF"
   ]
  },
  {
   "cell_type": "code",
   "execution_count": 126,
   "id": "eabd0e31",
   "metadata": {},
   "outputs": [
    {
     "name": "stdout",
     "output_type": "stream",
     "text": [
      "gorilla_to_chrom_pos.csv\n"
     ]
    }
   ],
   "source": [
    "# The chromosome file path will be:\n",
    "print(f\"{SPECIES_NAME}_to_chrom_pos.csv\")"
   ]
  },
  {
   "cell_type": "code",
   "execution_count": 127,
   "id": "fe1345b1",
   "metadata": {},
   "outputs": [
    {
     "data": {
      "text/plain": [
       "86"
      ]
     },
     "execution_count": 127,
     "metadata": {},
     "output_type": "execute_result"
    }
   ],
   "source": [
    "N_UNIQ_CHROM = len(master_pos_def[master_pos_def[\"species\"] == species][\"chromosome\"].unique())\n",
    "N_UNIQ_CHROM"
   ]
  },
  {
   "cell_type": "markdown",
   "id": "e37e277f",
   "metadata": {},
   "source": [
    "# Generate token file"
   ]
  },
  {
   "cell_type": "code",
   "execution_count": 128,
   "id": "d6904975",
   "metadata": {},
   "outputs": [],
   "source": [
    "import torch\n",
    "import pickle\n",
    "token_dim = 5120"
   ]
  },
  {
   "cell_type": "markdown",
   "id": "a2798848",
   "metadata": {},
   "source": [
    "This will create the token file. Please note the offset value."
   ]
  },
  {
   "cell_type": "code",
   "execution_count": 129,
   "id": "4355dabd",
   "metadata": {},
   "outputs": [
    {
     "name": "stdout",
     "output_type": "stream",
     "text": [
      "CHROM_TOKEN_OFFSET: 15930\n",
      "Saved PE, offsets file\n"
     ]
    }
   ],
   "source": [
    "species_to_offsets = {}\n",
    "\n",
    "all_pe = torch.load(\"/dfs/project/cross-species/yanay/code/uce_code/UCE_public/model_files/all_tokens.torch\")[0:4] # read in existing token file to make sure \n",
    "# that special vocab tokens are the same for different seeds\n",
    "\n",
    "offset = len(all_pe) # special tokens at the top!\n",
    "\n",
    "PE = torch.load(SPECIES_PROTEIN_EMBEDDINGS_PATH)\n",
    "\n",
    "pe_stacked = torch.stack(list(PE.values()))\n",
    "all_pe = torch.vstack((all_pe, pe_stacked))\n",
    "species_to_offsets[species] = offset\n",
    "\n",
    "print(\"CHROM_TOKEN_OFFSET:\", all_pe.shape[0])\n",
    "torch.manual_seed(TAXONOMY_ID)\n",
    "CHROM_TENSORS = torch.normal(mean=0, std=1, size=(N_UNIQ_CHROM, 5120)) \n",
    "# N_UNIQ_CHROM is the total number of chromosome choices, it is hardcoded for now (for species in the training data)\n",
    "all_pe = torch.vstack(\n",
    "    (all_pe, CHROM_TENSORS))  # Add the chrom tensors to the end\n",
    "all_pe.requires_grad = False\n",
    "\n",
    "\n",
    "torch.save(all_pe, f\"{SPECIES_NAME}_pe_tokens.torch\")\n",
    "\n",
    "with open(f\"{SPECIES_NAME}_offsets.pkl\", \"wb+\") as f:\n",
    "    pickle.dump(species_to_offsets, f)\n",
    "print(\"Saved PE, offsets file\")"
   ]
  },
  {
   "cell_type": "code",
   "execution_count": 130,
   "id": "c26fe491",
   "metadata": {
    "scrolled": true
   },
   "outputs": [
    {
     "data": {
      "text/plain": [
       "torch.Size([16016, 5120])"
      ]
     },
     "execution_count": 130,
     "metadata": {},
     "output_type": "execute_result"
    }
   ],
   "source": [
    "all_pe.shape"
   ]
  },
  {
   "cell_type": "code",
   "execution_count": 131,
   "id": "5faadace",
   "metadata": {},
   "outputs": [
    {
     "name": "stdout",
     "output_type": "stream",
     "text": [
      "gorilla_offsets.pkl\n"
     ]
    }
   ],
   "source": [
    "print(f\"{SPECIES_NAME}_offsets.pkl\")"
   ]
  },
  {
   "cell_type": "code",
   "execution_count": 132,
   "id": "6ceac20b",
   "metadata": {},
   "outputs": [
    {
     "data": {
      "text/plain": [
       "'/dfs/project/cross-species/yanay/data/proteome/embeddings/Gorilla_gorilla.gorGor4.pep.all.gene_symbol_to_embedding_ESM2.pt'"
      ]
     },
     "execution_count": 132,
     "metadata": {},
     "output_type": "execute_result"
    }
   ],
   "source": [
    "SPECIES_PROTEIN_EMBEDDINGS_PATH"
   ]
  },
  {
   "cell_type": "markdown",
   "id": "e4697330",
   "metadata": {},
   "source": [
    "# Example evaluation of new species"
   ]
  },
  {
   "cell_type": "markdown",
   "id": "2b72667d",
   "metadata": {},
   "source": [
    "**Note: when you evaluate a new species, you need to change some arguments and modify some files:**\n",
    "\n",
    "You will  need to modify the csv in `model_files/new_species_protein_embeddings.csv` to include the new protein embeddings file you downloaded.\n",
    "\n",
    "In the file add a row for the new species with the format:\n",
    "`species name,full path to protein embedding file`\n",
    "\n",
    "Please also add this line to the dictionary created on line 247 in the file `data_proc/data_utils.py`.\n",
    "\n",
    "When you want to embed this new species, you will need to specify these newly created files as arguments.\n",
    "- `CHROM_TOKEN_OFFSET`: This tells UCE when the rows corresponding to chromosome tokens starts.\n",
    "- `spec_chrom_csv_path`: This is a new csv, created by this script, which maps genes to chromosomes and genomic positions\n",
    "- `token_file`: This is a new token file that will work just for this species. The embeddings generated will still be universal though!\n",
    "- `offset_pkl_path`: This is another file that maps genes to tokens\n",
    "\n",
    "\n",
    "```\n",
    "\n",
    "accelerate launch eval_single_anndata.py chicken_heart.h5ad --species=chicken --CHROM_TOKEN_OFFSET=13275 --spec_chrom_csv_path=data_proc/chicken_to_chrom_pos.csv --token_file=data_proc/chicken_pe_tokens.torch --offset_pkl_path=data_proc/chicken_offsets.pkl --dir=... --multi_gpu=True\n",
    "\n",
    "```"
   ]
  },
  {
   "cell_type": "code",
   "execution_count": null,
   "id": "5203be90-cc36-4b60-867e-30b542649127",
   "metadata": {},
   "outputs": [],
   "source": []
  }
 ],
 "metadata": {
  "kernelspec": {
   "display_name": "Python 3 (ipykernel)",
   "language": "python",
   "name": "python3"
  },
  "language_info": {
   "codemirror_mode": {
    "name": "ipython",
    "version": 3
   },
   "file_extension": ".py",
   "mimetype": "text/x-python",
   "name": "python",
   "nbconvert_exporter": "python",
   "pygments_lexer": "ipython3",
   "version": "3.11.7"
  }
 },
 "nbformat": 4,
 "nbformat_minor": 5
}
