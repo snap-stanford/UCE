{
 "cells": [
  {
   "cell_type": "markdown",
   "id": "0e4018ee",
   "metadata": {},
   "source": [
    "# Embedding Novel Species\n",
    "\n",
    "This notebook will create the files you need to embed a novel species that wasn't included in the training data.\n",
    "\n",
    "To start, you will need to download the ESM2 protein embeddings and the reference proteome for the species.\n",
    "\n",
    "You can find precalculated ESM2 protein embeddings for many species [here](https://drive.google.com/drive/folders/1_Dz7HS5N3GoOAG6MdhsXWY1nwLoN13DJ?usp=drive_link)\n",
    "\n",
    "For reference proteomes, you can download them from [here](https://useast.ensembl.org/info/about/species.html).\n",
    "\n",
    "If there is no protein embedding for the species you are interested in, you can request to have it made via Github or email, or you can create it yourself following instructions [here](https://github.com/snap-stanford/SATURN/tree/main/protein_embeddings)."
   ]
  },
  {
   "cell_type": "code",
   "execution_count": 1,
   "id": "ab368d92",
   "metadata": {},
   "outputs": [],
   "source": [
    "import numpy as np\n",
    "import pickle as pkl\n",
    "import pandas as pd"
   ]
  },
  {
   "cell_type": "code",
   "execution_count": 2,
   "id": "c9a306f3",
   "metadata": {},
   "outputs": [],
   "source": [
    "SPECIES_NAME = \"chicken\" # short hand name for this species, will be used in arguments and files\n",
    "\n",
    "# Path to the species proteome\n",
    "SPECIES_PROTEIN_FASTA_PATH = \"../../../SATURN/protein_embeddings/data/Gallus_gallus.bGalGal1.mat.broiler.GRCg7b.pep.all.fa\"\n",
    "\n",
    "# Path to the ESM2 Embeddings\n",
    "SPECIES_PROTEIN_EMBEDDINGS_PATH = \"../model_files/protein_embeddings/Gallus_gallus.bGalGal1.mat.broiler.GRCg7b.pep.all.gene_symbol_to_embedding_ESM2.pt\"\n",
    "\n",
    "# primary_assembly name, this needs to be matched to the FASTA file\n",
    "ASSEMBLY_NAME = \"bGalGal1.mat.broiler.GRCg7b\"\n",
    "# NCBI Taxonomy ID, please set this so that if someone else also embeds the same species,\n",
    "# randomly generated chromosome tokens will be the same\n",
    "TAXONOMY_ID = 9031"
   ]
  },
  {
   "cell_type": "markdown",
   "id": "e5d37e52",
   "metadata": {},
   "source": [
    "You can view the FASTA format here, please confirm the primary_assembly name is correct."
   ]
  },
  {
   "cell_type": "code",
   "execution_count": 3,
   "id": "2ecf1464",
   "metadata": {},
   "outputs": [
    {
     "name": "stdout",
     "output_type": "stream",
     "text": [
      ">ENSGALP00010000002.1 pep primary_assembly:bGalGal1.mat.broiler.GRCg7b:MT:2824:3798:1 gene:ENSGALG00010000007.1 transcript:ENSGALT00010000007.1 gene_biotype:protein_coding transcript_biotype:protein_coding gene_symbol:ND1 description:NADH dehydrogenase subunit 1 [Source:NCBI gene (formerly Entrezgene);Acc:63549479]\r\n",
      "MTLPTLTNLLIMTLSYILPILIAVAFLTLVERKILSYMQARKGPNIVGPFGLLQPVADGV\r\n",
      "KLFIKEPIRPSTSSPFLFIITPILALLLALTIWVPLPLPFPLADLNLGLLFLLAMSSLTV\r\n",
      "YSLLWSGWASNSKYALIGALRAVAQTISYEVTLAIILLSTIMLSGNYTLSTLAITQEPIY\r\n",
      "LIFSAWPLAMMWYISTLAETNRAPFDLTEGESELVSGFNVEYAAGPFAMFFLAEYANIML\r\n",
      "MNTLTTVLFLNPSFLNLPPELFPIALATKTLLLSSSFLWIRASYPRFRYDQLMHLLWKNF\r\n",
      "LPLTLALCLWHTSMPISYAGLPPI\r\n",
      ">ENSGALP00010000003.1 pep primary_assembly:bGalGal1.mat.broiler.GRCg7b:MT:4015:5053:1 gene:ENSGALG00010000011.1 transcript:ENSGALT00010000011.1 gene_biotype:protein_coding transcript_biotype:protein_coding gene_symbol:ND2 description:NADH dehydrogenase subunit 2 [Source:NCBI gene (formerly Entrezgene);Acc:63549482]\r\n",
      "MNPHAKLICTVSLIMGTSITISSNHWILAWTGLEINTLAIIPLISKSHHPRAIEATIKYF\r\n",
      "LTQSTASALILFSSMTNAWSTGQWDITQLNHPTSCLMLTMAIAIKLGLVPFHFWFPEVLQ\r\n"
     ]
    }
   ],
   "source": [
    "!head {SPECIES_PROTEIN_FASTA_PATH}"
   ]
  },
  {
   "cell_type": "code",
   "execution_count": 4,
   "id": "90540d0b",
   "metadata": {},
   "outputs": [],
   "source": [
    "species_to_paths = {\n",
    "    SPECIES_NAME: SPECIES_PROTEIN_FASTA_PATH,\n",
    "}\n",
    "\n",
    "species_to_ids = {\n",
    "    SPECIES_NAME: ASSEMBLY_NAME,\n",
    "}"
   ]
  },
  {
   "cell_type": "code",
   "execution_count": 5,
   "id": "623b99cf",
   "metadata": {},
   "outputs": [],
   "source": [
    "all_pos_def = []\n",
    "\n",
    "missing_genes = {}\n",
    "for species in species_to_ids.keys():\n",
    "    missing_genes[species] = []\n",
    "    proteome_path = species_to_paths[species]\n",
    "    species_id = species_to_ids[species]\n",
    "\n",
    "    with open(proteome_path) as f:\n",
    "        proteome_lines = f.readlines()\n",
    "\n",
    "    gene_symbol_to_location = {}\n",
    "    gene_symbol_to_chrom = {}\n",
    "\n",
    "    for line in proteome_lines:\n",
    "        if line.startswith(\">\"):\n",
    "            split_line = line.split()\n",
    "            gene_symbol = [token for token in split_line if token.startswith(\"gene_symbol\")]\n",
    "            if len(gene_symbol) > 0:\n",
    "                gene_symbol = gene_symbol[0].split(\":\")\n",
    "                \n",
    "                if len(gene_symbol) == 2:\n",
    "                    gene_symbol = gene_symbol[1]\n",
    "                elif len(gene_symbol) > 2:\n",
    "                    gene_symbol = \":\".join(gene_symbol[1:]) # fix for annoying zebrafish gene names with colons in them\n",
    "                else:\n",
    "                    1/0 # something weird happening, throw an error\n",
    "                \n",
    "                \n",
    "                chrom = None\n",
    "                \n",
    "                chrom_arr = [token for token in split_line if token.startswith(\"chromosome:\")]\n",
    "                if len(chrom_arr) > 0:\n",
    "                    chrom = chrom_arr[0].replace(\"chromosome:\", \"\")\n",
    "                else:\n",
    "                    chrom_arr = [token for token in split_line if token.startswith(\"primary_assembly:\")]\n",
    "                    if len(chrom_arr) > 0:\n",
    "                        chrom = chrom_arr[0].replace(\"primary_assembly:\", \"\")\n",
    "                    else:\n",
    "                        chrom_arr = [token for token in split_line if token.startswith(\"scaffold:\")] \n",
    "                        if len(chrom_arr) > 0:\n",
    "                            chrom = chrom_arr[0].replace(\"scaffold:\", \"\")\n",
    "                if chrom is not None:\n",
    "                    gene_symbol_to_location[gene_symbol] = chrom.split(\":\")[2]\n",
    "                    gene_symbol_to_chrom[gene_symbol] = chrom.split(\":\")[1]\n",
    "                else:\n",
    "                    missing_genes[species].append(gene_symbol)\n",
    "                    \n",
    "\n",
    "    positional_df = pd.DataFrame()\n",
    "    positional_df[\"gene_symbol\"] = [gn.upper() for gn in list(gene_symbol_to_chrom.keys())]\n",
    "    positional_df[\"chromosome\"] = list(gene_symbol_to_chrom.values())\n",
    "    positional_df[\"start\"] = list(gene_symbol_to_location.values())\n",
    "    positional_df = positional_df.sort_values([\"chromosome\", \"start\"])\n",
    "    #positional_df = positional_df.set_index(\"gene_symbol\")\n",
    "    positional_df[\"species\"] = species\n",
    "    all_pos_def.append(positional_df)"
   ]
  },
  {
   "cell_type": "code",
   "execution_count": 6,
   "id": "b72887b3",
   "metadata": {},
   "outputs": [
    {
     "data": {
      "text/html": [
       "<div>\n",
       "<style scoped>\n",
       "    .dataframe tbody tr th:only-of-type {\n",
       "        vertical-align: middle;\n",
       "    }\n",
       "\n",
       "    .dataframe tbody tr th {\n",
       "        vertical-align: top;\n",
       "    }\n",
       "\n",
       "    .dataframe thead th {\n",
       "        text-align: right;\n",
       "    }\n",
       "</style>\n",
       "<table border=\"1\" class=\"dataframe\">\n",
       "  <thead>\n",
       "    <tr style=\"text-align: right;\">\n",
       "      <th></th>\n",
       "      <th>gene_symbol</th>\n",
       "      <th>chromosome</th>\n",
       "      <th>start</th>\n",
       "      <th>species</th>\n",
       "    </tr>\n",
       "  </thead>\n",
       "  <tbody>\n",
       "    <tr>\n",
       "      <th>2327</th>\n",
       "      <td>GCC1</td>\n",
       "      <td>1</td>\n",
       "      <td>1006145</td>\n",
       "      <td>chicken</td>\n",
       "    </tr>\n",
       "    <tr>\n",
       "      <th>2502</th>\n",
       "      <td>NCAM2</td>\n",
       "      <td>1</td>\n",
       "      <td>100828671</td>\n",
       "      <td>chicken</td>\n",
       "    </tr>\n",
       "    <tr>\n",
       "      <th>3084</th>\n",
       "      <td>ENS-2</td>\n",
       "      <td>1</td>\n",
       "      <td>101147482</td>\n",
       "      <td>chicken</td>\n",
       "    </tr>\n",
       "    <tr>\n",
       "      <th>2331</th>\n",
       "      <td>DENND6B</td>\n",
       "      <td>1</td>\n",
       "      <td>1012031</td>\n",
       "      <td>chicken</td>\n",
       "    </tr>\n",
       "    <tr>\n",
       "      <th>3973</th>\n",
       "      <td>MRPL39</td>\n",
       "      <td>1</td>\n",
       "      <td>102578362</td>\n",
       "      <td>chicken</td>\n",
       "    </tr>\n",
       "    <tr>\n",
       "      <th>...</th>\n",
       "      <td>...</td>\n",
       "      <td>...</td>\n",
       "      <td>...</td>\n",
       "      <td>...</td>\n",
       "    </tr>\n",
       "    <tr>\n",
       "      <th>4722</th>\n",
       "      <td>CA9</td>\n",
       "      <td>Z</td>\n",
       "      <td>9779343</td>\n",
       "      <td>chicken</td>\n",
       "    </tr>\n",
       "    <tr>\n",
       "      <th>4738</th>\n",
       "      <td>ARHGEF39</td>\n",
       "      <td>Z</td>\n",
       "      <td>9835547</td>\n",
       "      <td>chicken</td>\n",
       "    </tr>\n",
       "    <tr>\n",
       "      <th>3885</th>\n",
       "      <td>MRPL17</td>\n",
       "      <td>Z</td>\n",
       "      <td>9850679</td>\n",
       "      <td>chicken</td>\n",
       "    </tr>\n",
       "    <tr>\n",
       "      <th>4172</th>\n",
       "      <td>CCBE1</td>\n",
       "      <td>Z</td>\n",
       "      <td>9852827</td>\n",
       "      <td>chicken</td>\n",
       "    </tr>\n",
       "    <tr>\n",
       "      <th>3293</th>\n",
       "      <td>PMAIP1</td>\n",
       "      <td>Z</td>\n",
       "      <td>9998272</td>\n",
       "      <td>chicken</td>\n",
       "    </tr>\n",
       "  </tbody>\n",
       "</table>\n",
       "<p>13271 rows × 4 columns</p>\n",
       "</div>"
      ],
      "text/plain": [
       "     gene_symbol chromosome      start  species\n",
       "2327        GCC1          1    1006145  chicken\n",
       "2502       NCAM2          1  100828671  chicken\n",
       "3084       ENS-2          1  101147482  chicken\n",
       "2331     DENND6B          1    1012031  chicken\n",
       "3973      MRPL39          1  102578362  chicken\n",
       "...          ...        ...        ...      ...\n",
       "4722         CA9          Z    9779343  chicken\n",
       "4738    ARHGEF39          Z    9835547  chicken\n",
       "3885      MRPL17          Z    9850679  chicken\n",
       "4172       CCBE1          Z    9852827  chicken\n",
       "3293      PMAIP1          Z    9998272  chicken\n",
       "\n",
       "[13271 rows x 4 columns]"
      ]
     },
     "execution_count": 6,
     "metadata": {},
     "output_type": "execute_result"
    }
   ],
   "source": [
    "master_pos_def = pd.concat(all_pos_def)\n",
    "master_pos_def"
   ]
  },
  {
   "cell_type": "code",
   "execution_count": 7,
   "id": "6d9dac28",
   "metadata": {},
   "outputs": [
    {
     "data": {
      "text/plain": [
       "chicken    13271\n",
       "Name: species, dtype: int64"
      ]
     },
     "execution_count": 7,
     "metadata": {},
     "output_type": "execute_result"
    }
   ],
   "source": [
    "master_pos_def[\"species\"].value_counts() # double check how many genes are mapped"
   ]
  },
  {
   "cell_type": "code",
   "execution_count": 8,
   "id": "4a3d45c2",
   "metadata": {},
   "outputs": [
    {
     "name": "stdout",
     "output_type": "stream",
     "text": [
      "chicken: 0\n"
     ]
    }
   ],
   "source": [
    "for k, v in missing_genes.items():\n",
    "    print(f\"{k}: {len(v)}\") # are any genes missing?"
   ]
  },
  {
   "cell_type": "code",
   "execution_count": 9,
   "id": "c59774b1",
   "metadata": {
    "scrolled": true
   },
   "outputs": [
    {
     "name": "stdout",
     "output_type": "stream",
     "text": [
      "*********\n",
      "chicken\n"
     ]
    },
    {
     "data": {
      "text/plain": [
       "1                    1785\n",
       "2                    1169\n",
       "3                    1067\n",
       "4                     953\n",
       "5                     817\n",
       "Z                     629\n",
       "6                     458\n",
       "8                     450\n",
       "7                     442\n",
       "9                     382\n",
       "10                    366\n",
       "14                    359\n",
       "11                    327\n",
       "15                    326\n",
       "13                    306\n",
       "20                    298\n",
       "12                    293\n",
       "19                    278\n",
       "18                    274\n",
       "17                    260\n",
       "26                    237\n",
       "28                    237\n",
       "27                    235\n",
       "21                    226\n",
       "23                    214\n",
       "25                    176\n",
       "34                    155\n",
       "24                    149\n",
       "22                    142\n",
       "16                     54\n",
       "30                     52\n",
       "38                     49\n",
       "31                     14\n",
       "MT                     13\n",
       "39                     10\n",
       "JAENSK010000484.1       7\n",
       "35                      6\n",
       "JAENSK010000592.1       6\n",
       "W                       5\n",
       "MU179278.1              5\n",
       "MU179279.1              4\n",
       "36                      3\n",
       "JAENSK010000483.1       3\n",
       "JAENSK010000585.1       3\n",
       "JAENSK010000593.1       2\n",
       "MU179258.1              2\n",
       "MU179272.1              2\n",
       "MU179273.1              2\n",
       "JAENSK010000584.1       2\n",
       "JAENSK010000656.1       1\n",
       "Name: chromosome, dtype: int64"
      ]
     },
     "metadata": {},
     "output_type": "display_data"
    },
    {
     "name": "stdout",
     "output_type": "stream",
     "text": [
      "*********\n"
     ]
    }
   ],
   "source": [
    "# Count genes per chromosome\n",
    "for species in species_to_ids.keys():\n",
    "    print(\"*********\")\n",
    "    print(species)\n",
    "    display(master_pos_def[master_pos_def[\"species\"] == species][\"chromosome\"].value_counts().head(50))\n",
    "    print(\"*********\")"
   ]
  },
  {
   "cell_type": "code",
   "execution_count": 10,
   "id": "541baded",
   "metadata": {},
   "outputs": [],
   "source": [
    "master_pos_def.to_csv(f\"{SPECIES_NAME}_to_chrom_pos.csv\", index=False) # Save the DF"
   ]
  },
  {
   "cell_type": "code",
   "execution_count": 11,
   "id": "eabd0e31",
   "metadata": {},
   "outputs": [
    {
     "name": "stdout",
     "output_type": "stream",
     "text": [
      "chicken_to_chrom_pos.csv\n"
     ]
    }
   ],
   "source": [
    "# The chromosome file path will be:\n",
    "print(f\"{SPECIES_NAME}_to_chrom_pos.csv\")"
   ]
  },
  {
   "cell_type": "code",
   "execution_count": 12,
   "id": "fe1345b1",
   "metadata": {},
   "outputs": [
    {
     "data": {
      "text/plain": [
       "66"
      ]
     },
     "execution_count": 12,
     "metadata": {},
     "output_type": "execute_result"
    }
   ],
   "source": [
    "N_UNIQ_CHROM = len(master_pos_def[master_pos_def[\"species\"] == species][\"chromosome\"].unique())\n",
    "N_UNIQ_CHROM"
   ]
  },
  {
   "cell_type": "markdown",
   "id": "e37e277f",
   "metadata": {},
   "source": [
    "# Generate token file"
   ]
  },
  {
   "cell_type": "code",
   "execution_count": 13,
   "id": "d6904975",
   "metadata": {},
   "outputs": [],
   "source": [
    "import torch\n",
    "import pickle\n",
    "token_dim = 5120"
   ]
  },
  {
   "cell_type": "markdown",
   "id": "a2798848",
   "metadata": {},
   "source": [
    "This will create the token file. Please note the offset value."
   ]
  },
  {
   "cell_type": "code",
   "execution_count": 14,
   "id": "4355dabd",
   "metadata": {},
   "outputs": [
    {
     "name": "stdout",
     "output_type": "stream",
     "text": [
      "CHROM_TOKEN_OFFSET: 13275\n",
      "Saved PE, offsets file\n"
     ]
    }
   ],
   "source": [
    "species_to_offsets = {}\n",
    "\n",
    "all_pe = torch.load(\"../model_files/all_tokens.torch\")[0:4] # read in existing token file to make sure \n",
    "# that special vocab tokens are the same for different seeds\n",
    "\n",
    "offset = len(all_pe) # special tokens at the top!\n",
    "\n",
    "PE = torch.load(SPECIES_PROTEIN_EMBEDDINGS_PATH)\n",
    "\n",
    "pe_stacked = torch.stack(list(PE.values()))\n",
    "all_pe = torch.vstack((all_pe, pe_stacked))\n",
    "species_to_offsets[species] = offset\n",
    "\n",
    "print(\"CHROM_TOKEN_OFFSET:\", all_pe.shape[0])\n",
    "torch.manual_seed(TAXONOMY_ID)\n",
    "CHROM_TENSORS = torch.normal(mean=0, std=1, size=(N_UNIQ_CHROM, 5120)) \n",
    "# N_UNIQ_CHROM is the total number of chromosome choices, it is hardcoded for now (for species in the training data)\n",
    "all_pe = torch.vstack(\n",
    "    (all_pe, CHROM_TENSORS))  # Add the chrom tensors to the end\n",
    "all_pe.requires_grad = False\n",
    "\n",
    "\n",
    "torch.save(all_pe, f\"{SPECIES_NAME}_pe_tokens.torch\")\n",
    "\n",
    "with open(f\"{SPECIES_NAME}_offsets.pkl\", \"wb+\") as f:\n",
    "    pickle.dump(species_to_offsets, f)\n",
    "print(\"Saved PE, offsets file\")"
   ]
  },
  {
   "cell_type": "code",
   "execution_count": 15,
   "id": "c26fe491",
   "metadata": {
    "scrolled": true
   },
   "outputs": [
    {
     "data": {
      "text/plain": [
       "torch.Size([13341, 5120])"
      ]
     },
     "execution_count": 15,
     "metadata": {},
     "output_type": "execute_result"
    }
   ],
   "source": [
    "all_pe.shape"
   ]
  },
  {
   "cell_type": "code",
   "execution_count": 16,
   "id": "21f937ea",
   "metadata": {
    "scrolled": true
   },
   "outputs": [
    {
     "data": {
      "text/plain": [
       "torch.Size([13341, 5120])"
      ]
     },
     "execution_count": 16,
     "metadata": {},
     "output_type": "execute_result"
    }
   ],
   "source": [
    "all_pe.shape"
   ]
  },
  {
   "cell_type": "code",
   "execution_count": 17,
   "id": "5faadace",
   "metadata": {},
   "outputs": [
    {
     "name": "stdout",
     "output_type": "stream",
     "text": [
      "chicken_offsets.pkl\n"
     ]
    }
   ],
   "source": [
    "print(f\"{SPECIES_NAME}_offsets.pkl\")"
   ]
  },
  {
   "cell_type": "code",
   "execution_count": 18,
   "id": "6ceac20b",
   "metadata": {},
   "outputs": [
    {
     "data": {
      "text/plain": [
       "'../model_files/protein_embeddings/Gallus_gallus.bGalGal1.mat.broiler.GRCg7b.pep.all.gene_symbol_to_embedding_ESM2.pt'"
      ]
     },
     "execution_count": 18,
     "metadata": {},
     "output_type": "execute_result"
    }
   ],
   "source": [
    "SPECIES_PROTEIN_EMBEDDINGS_PATH"
   ]
  },
  {
   "cell_type": "markdown",
   "id": "e4697330",
   "metadata": {},
   "source": [
    "# Example evaluation of new species"
   ]
  },
  {
   "cell_type": "markdown",
   "id": "2b72667d",
   "metadata": {},
   "source": [
    "**Note: when you evaluate a new species, you need to change some arguments and modify some files:**\n",
    "\n",
    "You will  need to modify the csv in `model_files/new_species_protein_embeddings.csv` to include the new protein embeddings file you downloaded.\n",
    "\n",
    "In the file add a row for the new species with the format:\n",
    "`species name,full path to protein embedding file`\n",
    "\n",
    "Please also add this line to the dictionary created on line 247 in the file `data_proc/data_utils.py`.\n",
    "\n",
    "When you want to embed this new species, you will need to specify these newly created files as arguments.\n",
    "- `CHROM_TOKEN_OFFSET`: This tells UCE when the rows corresponding to chromosome tokens starts.\n",
    "- `spec_chrom_csv_path`: This is a new csv, created by this script, which maps genes to chromosomes and genomic positions\n",
    "- `token_file`: This is a new token file that will work just for this species. The embeddings generated will still be universal though!\n",
    "- `offset_pkl_path`: This is another file that maps genes to tokens\n",
    "\n",
    "\n",
    "```\n",
    "\n",
    "accelerate launch eval_single_anndata.py chicken_heart.h5ad --species=chicken --CHROM_TOKEN_OFFSET=13275 --spec_chrom_csv_path=data_proc/chicken_to_chrom_pos.csv --token_file=data_proc/chicken_pe_tokens.torch --offset_pkl_path=data_proc/chicken_offsets.pkl --dir=... --multi_gpu=True\n",
    "\n",
    "```"
   ]
  }
 ],
 "metadata": {
  "kernelspec": {
   "display_name": "Python 3 (ipykernel)",
   "language": "python",
   "name": "python3"
  },
  "language_info": {
   "codemirror_mode": {
    "name": "ipython",
    "version": 3
   },
   "file_extension": ".py",
   "mimetype": "text/x-python",
   "name": "python",
   "nbconvert_exporter": "python",
   "pygments_lexer": "ipython3",
   "version": "3.8.6"
  }
 },
 "nbformat": 4,
 "nbformat_minor": 5
}
